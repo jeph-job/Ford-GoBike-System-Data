{
 "cells": [
  {
   "cell_type": "markdown",
   "metadata": {},
   "source": [
    "# Part I - Ford GoBike System Data\n",
    "## by Agyo Jephthah Job\n",
    "\n",
    "## Introduction\n",
    "> This data set includes information about individual rides made in a bike-sharing system covering the greater San Francisco Bay area. The dataset was for 2019, Feb.\n",
    "\n",
    "\n",
    "## Preliminary Wrangling\n"
   ]
  },
  {
   "cell_type": "code",
   "execution_count": 55,
   "metadata": {},
   "outputs": [],
   "source": [
    "# import all packages and set plots to be embedded inline\n",
    "import numpy as np\n",
    "import pandas as pd\n",
    "import matplotlib.pyplot as plt\n",
    "import seaborn as sb\n",
    "\n",
    "%matplotlib inline"
   ]
  },
  {
   "cell_type": "markdown",
   "metadata": {},
   "source": [
    "> Loading in the dataset and describing its properties through the questions below.\n"
   ]
  },
  {
   "cell_type": "code",
   "execution_count": 56,
   "metadata": {},
   "outputs": [],
   "source": [
    "# Loading my dataset\n",
    "df = pd.read_csv('tripdata.csv')"
   ]
  },
  {
   "cell_type": "code",
   "execution_count": 57,
   "metadata": {},
   "outputs": [
    {
     "data": {
      "text/html": [
       "<div>\n",
       "<style scoped>\n",
       "    .dataframe tbody tr th:only-of-type {\n",
       "        vertical-align: middle;\n",
       "    }\n",
       "\n",
       "    .dataframe tbody tr th {\n",
       "        vertical-align: top;\n",
       "    }\n",
       "\n",
       "    .dataframe thead th {\n",
       "        text-align: right;\n",
       "    }\n",
       "</style>\n",
       "<table border=\"1\" class=\"dataframe\">\n",
       "  <thead>\n",
       "    <tr style=\"text-align: right;\">\n",
       "      <th></th>\n",
       "      <th>duration_sec</th>\n",
       "      <th>start_time</th>\n",
       "      <th>end_time</th>\n",
       "      <th>start_station_id</th>\n",
       "      <th>start_station_name</th>\n",
       "      <th>start_station_latitude</th>\n",
       "      <th>start_station_longitude</th>\n",
       "      <th>end_station_id</th>\n",
       "      <th>end_station_name</th>\n",
       "      <th>end_station_latitude</th>\n",
       "      <th>end_station_longitude</th>\n",
       "      <th>bike_id</th>\n",
       "      <th>user_type</th>\n",
       "      <th>member_birth_year</th>\n",
       "      <th>member_gender</th>\n",
       "      <th>bike_share_for_all_trip</th>\n",
       "    </tr>\n",
       "  </thead>\n",
       "  <tbody>\n",
       "    <tr>\n",
       "      <th>106118</th>\n",
       "      <td>424</td>\n",
       "      <td>2019-02-13 18:54:01.1850</td>\n",
       "      <td>2019-02-13 19:01:05.9860</td>\n",
       "      <td>67.0</td>\n",
       "      <td>San Francisco Caltrain Station 2  (Townsend St...</td>\n",
       "      <td>37.776639</td>\n",
       "      <td>-122.395526</td>\n",
       "      <td>21.0</td>\n",
       "      <td>Montgomery St BART Station (Market St at 2nd St)</td>\n",
       "      <td>37.789625</td>\n",
       "      <td>-122.400811</td>\n",
       "      <td>6308</td>\n",
       "      <td>Subscriber</td>\n",
       "      <td>NaN</td>\n",
       "      <td>NaN</td>\n",
       "      <td>No</td>\n",
       "    </tr>\n",
       "    <tr>\n",
       "      <th>64348</th>\n",
       "      <td>1003</td>\n",
       "      <td>2019-02-20 12:08:32.6670</td>\n",
       "      <td>2019-02-20 12:25:16.1830</td>\n",
       "      <td>81.0</td>\n",
       "      <td>Berry St at 4th St</td>\n",
       "      <td>37.775880</td>\n",
       "      <td>-122.393170</td>\n",
       "      <td>58.0</td>\n",
       "      <td>Market St at 10th St</td>\n",
       "      <td>37.776619</td>\n",
       "      <td>-122.417385</td>\n",
       "      <td>5282</td>\n",
       "      <td>Subscriber</td>\n",
       "      <td>1993.0</td>\n",
       "      <td>Male</td>\n",
       "      <td>No</td>\n",
       "    </tr>\n",
       "    <tr>\n",
       "      <th>182842</th>\n",
       "      <td>228</td>\n",
       "      <td>2019-02-01 07:47:19.1270</td>\n",
       "      <td>2019-02-01 07:51:07.6390</td>\n",
       "      <td>126.0</td>\n",
       "      <td>Esprit Park</td>\n",
       "      <td>37.761634</td>\n",
       "      <td>-122.390648</td>\n",
       "      <td>116.0</td>\n",
       "      <td>Mississippi St at 17th St</td>\n",
       "      <td>37.764802</td>\n",
       "      <td>-122.394771</td>\n",
       "      <td>1975</td>\n",
       "      <td>Subscriber</td>\n",
       "      <td>1989.0</td>\n",
       "      <td>Male</td>\n",
       "      <td>No</td>\n",
       "    </tr>\n",
       "    <tr>\n",
       "      <th>36044</th>\n",
       "      <td>303</td>\n",
       "      <td>2019-02-23 17:11:05.0410</td>\n",
       "      <td>2019-02-23 17:16:08.6610</td>\n",
       "      <td>182.0</td>\n",
       "      <td>19th Street BART Station</td>\n",
       "      <td>37.809013</td>\n",
       "      <td>-122.268247</td>\n",
       "      <td>164.0</td>\n",
       "      <td>Isabella St at San Pablo Ave</td>\n",
       "      <td>37.814988</td>\n",
       "      <td>-122.274844</td>\n",
       "      <td>4916</td>\n",
       "      <td>Subscriber</td>\n",
       "      <td>1996.0</td>\n",
       "      <td>Female</td>\n",
       "      <td>No</td>\n",
       "    </tr>\n",
       "    <tr>\n",
       "      <th>10330</th>\n",
       "      <td>264</td>\n",
       "      <td>2019-02-27 20:52:13.1280</td>\n",
       "      <td>2019-02-27 20:56:38.0270</td>\n",
       "      <td>33.0</td>\n",
       "      <td>Golden Gate Ave at Hyde St</td>\n",
       "      <td>37.781650</td>\n",
       "      <td>-122.415408</td>\n",
       "      <td>60.0</td>\n",
       "      <td>8th St at Ringold St</td>\n",
       "      <td>37.774520</td>\n",
       "      <td>-122.409449</td>\n",
       "      <td>6246</td>\n",
       "      <td>Subscriber</td>\n",
       "      <td>1989.0</td>\n",
       "      <td>Male</td>\n",
       "      <td>No</td>\n",
       "    </tr>\n",
       "  </tbody>\n",
       "</table>\n",
       "</div>"
      ],
      "text/plain": [
       "        duration_sec                start_time                  end_time  \\\n",
       "106118           424  2019-02-13 18:54:01.1850  2019-02-13 19:01:05.9860   \n",
       "64348           1003  2019-02-20 12:08:32.6670  2019-02-20 12:25:16.1830   \n",
       "182842           228  2019-02-01 07:47:19.1270  2019-02-01 07:51:07.6390   \n",
       "36044            303  2019-02-23 17:11:05.0410  2019-02-23 17:16:08.6610   \n",
       "10330            264  2019-02-27 20:52:13.1280  2019-02-27 20:56:38.0270   \n",
       "\n",
       "        start_station_id                                 start_station_name  \\\n",
       "106118              67.0  San Francisco Caltrain Station 2  (Townsend St...   \n",
       "64348               81.0                                 Berry St at 4th St   \n",
       "182842             126.0                                        Esprit Park   \n",
       "36044              182.0                           19th Street BART Station   \n",
       "10330               33.0                         Golden Gate Ave at Hyde St   \n",
       "\n",
       "        start_station_latitude  start_station_longitude  end_station_id  \\\n",
       "106118               37.776639              -122.395526            21.0   \n",
       "64348                37.775880              -122.393170            58.0   \n",
       "182842               37.761634              -122.390648           116.0   \n",
       "36044                37.809013              -122.268247           164.0   \n",
       "10330                37.781650              -122.415408            60.0   \n",
       "\n",
       "                                        end_station_name  \\\n",
       "106118  Montgomery St BART Station (Market St at 2nd St)   \n",
       "64348                               Market St at 10th St   \n",
       "182842                         Mississippi St at 17th St   \n",
       "36044                       Isabella St at San Pablo Ave   \n",
       "10330                               8th St at Ringold St   \n",
       "\n",
       "        end_station_latitude  end_station_longitude  bike_id   user_type  \\\n",
       "106118             37.789625            -122.400811     6308  Subscriber   \n",
       "64348              37.776619            -122.417385     5282  Subscriber   \n",
       "182842             37.764802            -122.394771     1975  Subscriber   \n",
       "36044              37.814988            -122.274844     4916  Subscriber   \n",
       "10330              37.774520            -122.409449     6246  Subscriber   \n",
       "\n",
       "        member_birth_year member_gender bike_share_for_all_trip  \n",
       "106118                NaN           NaN                      No  \n",
       "64348              1993.0          Male                      No  \n",
       "182842             1989.0          Male                      No  \n",
       "36044              1996.0        Female                      No  \n",
       "10330              1989.0          Male                      No  "
      ]
     },
     "execution_count": 57,
     "metadata": {},
     "output_type": "execute_result"
    }
   ],
   "source": [
    "# View some sample of the data set\n",
    "\n",
    "df.sample(5)"
   ]
  },
  {
   "cell_type": "code",
   "execution_count": 58,
   "metadata": {},
   "outputs": [
    {
     "name": "stdout",
     "output_type": "stream",
     "text": [
      "<class 'pandas.core.frame.DataFrame'>\n",
      "RangeIndex: 183412 entries, 0 to 183411\n",
      "Data columns (total 16 columns):\n",
      "duration_sec               183412 non-null int64\n",
      "start_time                 183412 non-null object\n",
      "end_time                   183412 non-null object\n",
      "start_station_id           183215 non-null float64\n",
      "start_station_name         183215 non-null object\n",
      "start_station_latitude     183412 non-null float64\n",
      "start_station_longitude    183412 non-null float64\n",
      "end_station_id             183215 non-null float64\n",
      "end_station_name           183215 non-null object\n",
      "end_station_latitude       183412 non-null float64\n",
      "end_station_longitude      183412 non-null float64\n",
      "bike_id                    183412 non-null int64\n",
      "user_type                  183412 non-null object\n",
      "member_birth_year          175147 non-null float64\n",
      "member_gender              175147 non-null object\n",
      "bike_share_for_all_trip    183412 non-null object\n",
      "dtypes: float64(7), int64(2), object(7)\n",
      "memory usage: 17.5+ MB\n"
     ]
    }
   ],
   "source": [
    "# Performing initial investigation\n",
    "df.info()"
   ]
  },
  {
   "cell_type": "code",
   "execution_count": 59,
   "metadata": {},
   "outputs": [
    {
     "data": {
      "text/plain": [
       "duration_sec                  0\n",
       "start_time                    0\n",
       "end_time                      0\n",
       "start_station_id            197\n",
       "start_station_name          197\n",
       "start_station_latitude        0\n",
       "start_station_longitude       0\n",
       "end_station_id              197\n",
       "end_station_name            197\n",
       "end_station_latitude          0\n",
       "end_station_longitude         0\n",
       "bike_id                       0\n",
       "user_type                     0\n",
       "member_birth_year          8265\n",
       "member_gender              8265\n",
       "bike_share_for_all_trip       0\n",
       "dtype: int64"
      ]
     },
     "execution_count": 59,
     "metadata": {},
     "output_type": "execute_result"
    }
   ],
   "source": [
    "df.isna().sum()"
   ]
  },
  {
   "cell_type": "code",
   "execution_count": 60,
   "metadata": {},
   "outputs": [
    {
     "data": {
      "text/plain": [
       "0"
      ]
     },
     "execution_count": 60,
     "metadata": {},
     "output_type": "execute_result"
    }
   ],
   "source": [
    "df.duplicated().sum()"
   ]
  },
  {
   "cell_type": "code",
   "execution_count": 61,
   "metadata": {},
   "outputs": [
    {
     "data": {
      "text/plain": [
       "duration_sec                 4752\n",
       "start_time                 183401\n",
       "end_time                   183397\n",
       "start_station_id              329\n",
       "start_station_name            329\n",
       "start_station_latitude        334\n",
       "start_station_longitude       335\n",
       "end_station_id                329\n",
       "end_station_name              329\n",
       "end_station_latitude          335\n",
       "end_station_longitude         335\n",
       "bike_id                      4646\n",
       "user_type                       2\n",
       "member_birth_year              75\n",
       "member_gender                   3\n",
       "bike_share_for_all_trip         2\n",
       "dtype: int64"
      ]
     },
     "execution_count": 61,
     "metadata": {},
     "output_type": "execute_result"
    }
   ],
   "source": [
    "# Unique values for each variable\n",
    "df.nunique()"
   ]
  },
  {
   "cell_type": "code",
   "execution_count": 62,
   "metadata": {},
   "outputs": [],
   "source": [
    "# Make a copy of the dataset\n",
    "df_copy = df.copy()"
   ]
  },
  {
   "cell_type": "code",
   "execution_count": null,
   "metadata": {},
   "outputs": [],
   "source": []
  },
  {
   "cell_type": "markdown",
   "metadata": {},
   "source": [
    "## Issues Discovered\n",
    "> - start_time and end_time have the wrong data type (onject)\n",
    "> - start_station_id and end_station_id are stored as float64\n",
    "> - There are many missing values (especially in member_birth_year and member_gender)"
   ]
  },
  {
   "cell_type": "markdown",
   "metadata": {},
   "source": [
    "## Fixing issues"
   ]
  },
  {
   "cell_type": "code",
   "execution_count": 63,
   "metadata": {},
   "outputs": [],
   "source": [
    "# Changing Start and end time data type\n",
    "df[['start_time', 'end_time']]= df[['start_time', 'end_time']].astype('datetime64[ns]')"
   ]
  },
  {
   "cell_type": "code",
   "execution_count": 64,
   "metadata": {},
   "outputs": [
    {
     "name": "stdout",
     "output_type": "stream",
     "text": [
      "<class 'pandas.core.frame.DataFrame'>\n",
      "RangeIndex: 183412 entries, 0 to 183411\n",
      "Data columns (total 2 columns):\n",
      "start_time    183412 non-null datetime64[ns]\n",
      "end_time      183412 non-null datetime64[ns]\n",
      "dtypes: datetime64[ns](2)\n",
      "memory usage: 2.8 MB\n"
     ]
    }
   ],
   "source": [
    "# Checking start and end data type\n",
    "df[['start_time', 'end_time']].info()"
   ]
  },
  {
   "cell_type": "code",
   "execution_count": 65,
   "metadata": {},
   "outputs": [],
   "source": [
    "# Changing start_station_id and end_station_id data type to int to remove the decimal points\n",
    "df[['start_station_id', 'end_station_id']] = df[['start_station_id', 'end_station_id']].astype('object')"
   ]
  },
  {
   "cell_type": "code",
   "execution_count": 66,
   "metadata": {},
   "outputs": [
    {
     "data": {
      "text/html": [
       "<div>\n",
       "<style scoped>\n",
       "    .dataframe tbody tr th:only-of-type {\n",
       "        vertical-align: middle;\n",
       "    }\n",
       "\n",
       "    .dataframe tbody tr th {\n",
       "        vertical-align: top;\n",
       "    }\n",
       "\n",
       "    .dataframe thead th {\n",
       "        text-align: right;\n",
       "    }\n",
       "</style>\n",
       "<table border=\"1\" class=\"dataframe\">\n",
       "  <thead>\n",
       "    <tr style=\"text-align: right;\">\n",
       "      <th></th>\n",
       "      <th>start_station_id</th>\n",
       "      <th>end_station_id</th>\n",
       "    </tr>\n",
       "  </thead>\n",
       "  <tbody>\n",
       "    <tr>\n",
       "      <th>6481</th>\n",
       "      <td>253</td>\n",
       "      <td>245</td>\n",
       "    </tr>\n",
       "    <tr>\n",
       "      <th>127416</th>\n",
       "      <td>355</td>\n",
       "      <td>355</td>\n",
       "    </tr>\n",
       "    <tr>\n",
       "      <th>181540</th>\n",
       "      <td>137</td>\n",
       "      <td>36</td>\n",
       "    </tr>\n",
       "    <tr>\n",
       "      <th>43655</th>\n",
       "      <td>343</td>\n",
       "      <td>22</td>\n",
       "    </tr>\n",
       "    <tr>\n",
       "      <th>81481</th>\n",
       "      <td>127</td>\n",
       "      <td>119</td>\n",
       "    </tr>\n",
       "  </tbody>\n",
       "</table>\n",
       "</div>"
      ],
      "text/plain": [
       "       start_station_id end_station_id\n",
       "6481                253            245\n",
       "127416              355            355\n",
       "181540              137             36\n",
       "43655               343             22\n",
       "81481               127            119"
      ]
     },
     "execution_count": 66,
     "metadata": {},
     "output_type": "execute_result"
    }
   ],
   "source": [
    "# Checking to see the changes\n",
    "df[['start_station_id', 'end_station_id']].sample(5)"
   ]
  },
  {
   "cell_type": "markdown",
   "metadata": {},
   "source": [
    "###### Dealing with missing values"
   ]
  },
  {
   "cell_type": "code",
   "execution_count": 67,
   "metadata": {},
   "outputs": [
    {
     "data": {
      "text/plain": [
       "Male      130651\n",
       "Female     40844\n",
       "Other       3652\n",
       "Name: member_gender, dtype: int64"
      ]
     },
     "execution_count": 67,
     "metadata": {},
     "output_type": "execute_result"
    }
   ],
   "source": [
    "# getting value types for the gender\n",
    "df['member_gender'].value_counts()"
   ]
  },
  {
   "cell_type": "code",
   "execution_count": 68,
   "metadata": {},
   "outputs": [],
   "source": [
    "# Dropping all rows with NA value.\n",
    "# I will like to perform some analysis using the gender, since out of 183412 rows only 8265 rows are NA, to me its reasonable to drop them.\n",
    "# There are 197 NA too for start and end station id and name. They will be droped too, to avoid inaccurate analysis in the future.\n",
    "df.dropna(axis=0, inplace=True)"
   ]
  },
  {
   "cell_type": "code",
   "execution_count": 69,
   "metadata": {},
   "outputs": [
    {
     "data": {
      "text/plain": [
       "duration_sec               0\n",
       "start_time                 0\n",
       "end_time                   0\n",
       "start_station_id           0\n",
       "start_station_name         0\n",
       "start_station_latitude     0\n",
       "start_station_longitude    0\n",
       "end_station_id             0\n",
       "end_station_name           0\n",
       "end_station_latitude       0\n",
       "end_station_longitude      0\n",
       "bike_id                    0\n",
       "user_type                  0\n",
       "member_birth_year          0\n",
       "member_gender              0\n",
       "bike_share_for_all_trip    0\n",
       "dtype: int64"
      ]
     },
     "execution_count": 69,
     "metadata": {},
     "output_type": "execute_result"
    }
   ],
   "source": [
    "# Check for NA values\n",
    "df.isna().sum()"
   ]
  },
  {
   "cell_type": "code",
   "execution_count": 70,
   "metadata": {},
   "outputs": [
    {
     "name": "stdout",
     "output_type": "stream",
     "text": [
      "<class 'pandas.core.frame.DataFrame'>\n",
      "Int64Index: 174952 entries, 0 to 183411\n",
      "Data columns (total 16 columns):\n",
      "duration_sec               174952 non-null int64\n",
      "start_time                 174952 non-null datetime64[ns]\n",
      "end_time                   174952 non-null datetime64[ns]\n",
      "start_station_id           174952 non-null object\n",
      "start_station_name         174952 non-null object\n",
      "start_station_latitude     174952 non-null float64\n",
      "start_station_longitude    174952 non-null float64\n",
      "end_station_id             174952 non-null object\n",
      "end_station_name           174952 non-null object\n",
      "end_station_latitude       174952 non-null float64\n",
      "end_station_longitude      174952 non-null float64\n",
      "bike_id                    174952 non-null int64\n",
      "user_type                  174952 non-null object\n",
      "member_birth_year          174952 non-null float64\n",
      "member_gender              174952 non-null object\n",
      "bike_share_for_all_trip    174952 non-null object\n",
      "dtypes: datetime64[ns](2), float64(5), int64(2), object(7)\n",
      "memory usage: 18.0+ MB\n",
      "None\n"
     ]
    },
    {
     "data": {
      "text/plain": [
       "(174952, 16)"
      ]
     },
     "execution_count": 70,
     "metadata": {},
     "output_type": "execute_result"
    }
   ],
   "source": [
    "# New shape of the dataframe\n",
    "print(df.info())\n",
    "df.shape"
   ]
  },
  {
   "cell_type": "code",
   "execution_count": 71,
   "metadata": {},
   "outputs": [
    {
     "name": "stdout",
     "output_type": "stream",
     "text": [
      "        duration_sec  start_station_latitude  start_station_longitude  \\\n",
      "count  174952.000000           174952.000000            174952.000000   \n",
      "mean      704.002744               37.771220              -122.351760   \n",
      "std      1642.204905                0.100391                 0.117732   \n",
      "min        61.000000               37.317298              -122.453704   \n",
      "25%       323.000000               37.770407              -122.411901   \n",
      "50%       510.000000               37.780760              -122.398279   \n",
      "75%       789.000000               37.797320              -122.283093   \n",
      "max     84548.000000               37.880222              -121.874119   \n",
      "\n",
      "       end_station_latitude  end_station_longitude        bike_id  \\\n",
      "count         174952.000000          174952.000000  174952.000000   \n",
      "mean              37.771414            -122.351335    4482.587555   \n",
      "std                0.100295               0.117294    1659.195937   \n",
      "min               37.317298            -122.453704      11.000000   \n",
      "25%               37.770407            -122.411647    3799.000000   \n",
      "50%               37.781010            -122.397437    4960.000000   \n",
      "75%               37.797673            -122.286533    5505.000000   \n",
      "max               37.880222            -121.874119    6645.000000   \n",
      "\n",
      "       member_birth_year  \n",
      "count      174952.000000  \n",
      "mean         1984.803135  \n",
      "std            10.118731  \n",
      "min          1878.000000  \n",
      "25%          1980.000000  \n",
      "50%          1987.000000  \n",
      "75%          1992.000000  \n",
      "max          2001.000000  \n"
     ]
    }
   ],
   "source": [
    "# descriptive statistics for numeric variables\n",
    "print(df.describe())"
   ]
  },
  {
   "cell_type": "code",
   "execution_count": 72,
   "metadata": {},
   "outputs": [
    {
     "data": {
      "text/plain": [
       "2    174952\n",
       "Name: start_time, dtype: int64"
      ]
     },
     "execution_count": 72,
     "metadata": {},
     "output_type": "execute_result"
    }
   ],
   "source": [
    "# View the most pupolar start hour and end hour in each month\n",
    "df['start_time'].dt.month.value_counts() \n",
    "\n",
    "#The dataset is just for the month of febuary"
   ]
  },
  {
   "cell_type": "markdown",
   "metadata": {},
   "source": [
    "### What is the structure of your dataset?\n",
    "\n",
    "> Initially there was 183412 rows in the dataset, but after some data cleaning, there is now 174952 rows and 16 columns. These variables have data types int, float, objects or datetime64[ns]\n",
    "> The dataset only contains data from 2019, Feb.\n",
    "\n",
    "### What is/are the main feature(s) of interest in your dataset?\n",
    "\n",
    "> I am interested in finding out if the gender and age of the users influence the duration of the rides.\n",
    "> - Which gender have longer ride duration\n",
    "> - What is the age bracket of those with longer or shorter duration, etc\n",
    "\n",
    "### What features in the dataset do you think will help support your investigation into your feature(s) of interest?\n",
    "\n",
    "> Features in the dataset that will support my ivestigation are the gender of the users, age of the users and the duration of their rides. Also, the user type will help."
   ]
  },
  {
   "cell_type": "markdown",
   "metadata": {},
   "source": [
    "## Univariate Exploration\n",
    "\n",
    "> In this section, I will be investigating the distributions of individual variables.\n"
   ]
  },
  {
   "cell_type": "markdown",
   "metadata": {},
   "source": [
    ">  **How many genders are represented in the dataset and what are their proportions?**"
   ]
  },
  {
   "cell_type": "code",
   "execution_count": 73,
   "metadata": {},
   "outputs": [
    {
     "data": {
      "image/png": "[encoded data removed]",
      "text/plain": [
       "<Figure size 432x288 with 1 Axes>"
      ]
     },
     "metadata": {
      "needs_background": "light"
     },
     "output_type": "display_data"
    }
   ],
   "source": [
    "# What are the percentages based on gender\n",
    "df['member_gender'].value_counts().plot(kind='bar');"
   ]
  },
  {
   "cell_type": "code",
   "execution_count": null,
   "metadata": {},
   "outputs": [],
   "source": []
  },
  {
   "cell_type": "code",
   "execution_count": 74,
   "metadata": {},
   "outputs": [
    {
     "name": "stdout",
     "output_type": "stream",
     "text": [
      "0.7459188806072523\n"
     ]
    }
   ],
   "source": [
    "# Its kinda difficult to figure out the value of each gender.\n",
    "# Plotting the bar chart to show their relative values instead.\n",
    "total_df = df.shape[0]\n",
    "max_g = df['member_gender'].value_counts()[0] / total_df\n",
    "print(max_g)"
   ]
  },
  {
   "cell_type": "code",
   "execution_count": 75,
   "metadata": {},
   "outputs": [],
   "source": [
    "#tick_prop = np.arange(0, max_g, 0.04)\n",
    "#tick_names = ['{:0.2f}'.format(v) for v in tick_prop]"
   ]
  },
  {
   "cell_type": "code",
   "execution_count": 76,
   "metadata": {},
   "outputs": [],
   "source": [
    "color_ = sb.color_palette()[0]\n",
    "order_ = df['member_gender'].value_counts().index\n",
    "orders = df['member_gender'].value_counts()"
   ]
  },
  {
   "cell_type": "code",
   "execution_count": 77,
   "metadata": {},
   "outputs": [
    {
     "data": {
      "image/png": "[encoded data removed]",
      "text/plain": [
       "<Figure size 828x504 with 1 Axes>"
      ]
     },
     "metadata": {
      "needs_background": "light"
     },
     "output_type": "display_data"
    }
   ],
   "source": [
    "plt.figure(figsize = (11.5,7))\n",
    "sb.countplot(data = df, y = 'member_gender', color = color_, order = order_);\n",
    "\n",
    "for i in range(orders.shape[0]):\n",
    "    count = orders[i]\n",
    "    p_srt = '{:0.1f}%'.format(100*count/total_df)\n",
    "    plt.text(count + 1, i, p_srt, va ='center');"
   ]
  },
  {
   "cell_type": "markdown",
   "metadata": {},
   "source": [
    "##### Findings\n",
    "\n",
    "> - There 3 genders represented, male, female and other.\n",
    "> - The male gender has the higest proportion with about 75%, followed by female with 23%, and Other with 2 %"
   ]
  },
  {
   "cell_type": "code",
   "execution_count": null,
   "metadata": {},
   "outputs": [],
   "source": []
  },
  {
   "cell_type": "markdown",
   "metadata": {},
   "source": [
    "> **How many user type are there, and what are their %?**"
   ]
  },
  {
   "cell_type": "code",
   "execution_count": 78,
   "metadata": {},
   "outputs": [
    {
     "data": {
      "image/png": "[encoded data removed]",
      "text/plain": [
       "<Figure size 432x288 with 1 Axes>"
      ]
     },
     "metadata": {},
     "output_type": "display_data"
    }
   ],
   "source": [
    "# What is the proportion of the User types\n",
    "c = df['user_type'].value_counts()\n",
    "plt.pie(c, labels = c.index, explode= [0,0.1], autopct= '%1.2f%%');\n",
    "plt.axis('square');"
   ]
  },
  {
   "cell_type": "markdown",
   "metadata": {},
   "source": [
    "###### Findings\n",
    "> - There 2 user types... Customers and Subscribers\n",
    "> - 90.5% of individuals in the dataset are Subscribers, while\n",
    "> - 9.5% are Customers"
   ]
  },
  {
   "cell_type": "code",
   "execution_count": null,
   "metadata": {},
   "outputs": [],
   "source": []
  },
  {
   "cell_type": "markdown",
   "metadata": {},
   "source": [
    "> **What is the age distributions for all the genders?**"
   ]
  },
  {
   "cell_type": "code",
   "execution_count": 79,
   "metadata": {},
   "outputs": [],
   "source": [
    "# Distribution of age\n",
    "# There is no age column, I'll create a new column that contains the ages of the bikers"
   ]
  },
  {
   "cell_type": "code",
   "execution_count": 80,
   "metadata": {},
   "outputs": [
    {
     "data": {
      "text/plain": [
       "2019    174952\n",
       "Name: start_time, dtype: int64"
      ]
     },
     "execution_count": 80,
     "metadata": {},
     "output_type": "execute_result"
    }
   ],
   "source": [
    "df['start_time'].dt.year.value_counts()\n",
    "\n",
    "# The data was collected in 2019"
   ]
  },
  {
   "cell_type": "code",
   "execution_count": 81,
   "metadata": {
    "scrolled": false
   },
   "outputs": [],
   "source": [
    "# Use 2019 to calculate the age.\n",
    "base_date = df['start_time'].dt.year.max()\n",
    "\n",
    "df['age'] = base_date - df['member_birth_year']"
   ]
  },
  {
   "cell_type": "code",
   "execution_count": 82,
   "metadata": {},
   "outputs": [],
   "source": [
    "# Convert the data type from float to int\n",
    "df[['member_birth_year', 'age']] = df[['member_birth_year', 'age']].astype('int')"
   ]
  },
  {
   "cell_type": "code",
   "execution_count": 83,
   "metadata": {},
   "outputs": [
    {
     "data": {
      "image/png": "[encoded data removed]",
      "text/plain": [
       "<Figure size 432x288 with 1 Axes>"
      ]
     },
     "metadata": {
      "needs_background": "light"
     },
     "output_type": "display_data"
    }
   ],
   "source": [
    "# Plotting a general hist. for the ages\n",
    "bins = np.arange(0, df['age'].max()+2, 2)\n",
    "plt.hist(data = df, x = 'age', bins = bins);"
   ]
  },
  {
   "cell_type": "markdown",
   "metadata": {},
   "source": [
    "###### Findings\n",
    "\n",
    "> - Most of the users fall between the age range of 25 - 45\n",
    "> - There few outliers, ages that falls between 85 and above"
   ]
  },
  {
   "cell_type": "code",
   "execution_count": 84,
   "metadata": {},
   "outputs": [
    {
     "data": {
      "text/plain": [
       "141"
      ]
     },
     "execution_count": 84,
     "metadata": {},
     "output_type": "execute_result"
    }
   ],
   "source": [
    "# Max age\n",
    "df['age'].max()"
   ]
  },
  {
   "cell_type": "markdown",
   "metadata": {},
   "source": [
    "> **What of the age distribution for individual gender type?**"
   ]
  },
  {
   "cell_type": "code",
   "execution_count": 85,
   "metadata": {},
   "outputs": [],
   "source": [
    "# Seperating the dataset to contain only a specific gender\n",
    "female = df.query('member_gender == \"Female\"')\n",
    "male = df.query('member_gender == \"Male\"')\n",
    "others = df.query('member_gender == \"Other\"')"
   ]
  },
  {
   "cell_type": "code",
   "execution_count": 86,
   "metadata": {},
   "outputs": [
    {
     "data": {
      "image/png": "[encoded data removed]",
      "text/plain": [
       "<Figure size 1440x360 with 2 Axes>"
      ]
     },
     "metadata": {
      "needs_background": "light"
     },
     "output_type": "display_data"
    },
    {
     "data": {
      "image/png": "[encoded data removed]",
      "text/plain": [
       "<Figure size 720x360 with 1 Axes>"
      ]
     },
     "metadata": {
      "needs_background": "light"
     },
     "output_type": "display_data"
    }
   ],
   "source": [
    "plt.figure(figsize = [20, 5])\n",
    "\n",
    "plt.subplot(1, 2, 1) \n",
    "bins = np.arange(0, female['age'].max()+2, 2)\n",
    "plt.hist(data = female, x = 'age', bins = bins);\n",
    "plt.title('Female age distribution')\n",
    "\n",
    "\n",
    "plt.subplot(1, 2, 2) # 1 row, 2 cols, subplot 2\n",
    "bins = np.arange(0, male['age'].max()+2, 2)\n",
    "plt.hist(data = male, x = 'age', bins = bins);\n",
    "plt.title('Male age distribution')\n",
    "\n",
    "plt.figure(figsize = [10, 5])\n",
    "\n",
    "plt.subplot(1,2,1)\n",
    "bins = np.arange(0, others['age'].max()+2, 2)\n",
    "plt.hist(data = others, x = 'age', bins = bins);\n",
    "plt.title('Other age distribution');\n"
   ]
  },
  {
   "cell_type": "markdown",
   "metadata": {},
   "source": [
    "###### Findings\n",
    "> - Users age falls between (17 - 18) and (85 - 90)\n",
    "> - There are few outliers, ages above 90\n",
    "> - Most the bikers have age range of 25 - 45 (for all genders)\n",
    "> - The male gender has more users with ages that are above 45 compared to the rest of the genders."
   ]
  },
  {
   "cell_type": "code",
   "execution_count": 87,
   "metadata": {},
   "outputs": [
    {
     "data": {
      "text/plain": [
       "77"
      ]
     },
     "execution_count": 87,
     "metadata": {},
     "output_type": "execute_result"
    }
   ],
   "source": [
    "# outliers present, ages above 90\n",
    "df[df['age'] >= 90]['age'].count()"
   ]
  },
  {
   "cell_type": "markdown",
   "metadata": {},
   "source": [
    "> **What hour of the day is the most popular for bikers?**"
   ]
  },
  {
   "cell_type": "code",
   "execution_count": 88,
   "metadata": {},
   "outputs": [],
   "source": [
    "def hours(c):\n",
    "    '''\n",
    "    This function takes a timestamp column and extract just the Hour\n",
    "    and converts the hours in 24h format to 12h format.\n",
    "    Returns a list of the converted hours...\n",
    "    ''' \n",
    "    #Create an empty list to hold the new time\n",
    "    d = []\n",
    "    e = [] # for time with either am or pm (trial)...\n",
    "\n",
    "    # Loop through list to convert time and append to new list\n",
    "    for i in c:\n",
    "        a = i - 12\n",
    "        if a <= 0:\n",
    "            d.append(i)\n",
    "            e.append(str(i)+\"am\")\n",
    "        else:\n",
    "            d.append(a)\n",
    "            e.append(str(a)+\"pm\")\n",
    "    return d, e\n",
    "\n",
    "# create a variable holding the time columns\n",
    "start_time = df['start_time'].dt.hour\n",
    "end_time = df['end_time'].dt.hour\n",
    "\n",
    "# Create new columns\n",
    "df['initial_stime'] = hours(start_time)[0]\n",
    "df['start_hour'] = hours(start_time)[1]\n",
    "\n",
    "df['initial_etime'] = hours(end_time)[0]\n",
    "df['end_hour'] = hours(end_time)[1]"
   ]
  },
  {
   "cell_type": "code",
   "execution_count": null,
   "metadata": {},
   "outputs": [],
   "source": []
  },
  {
   "cell_type": "code",
   "execution_count": 89,
   "metadata": {},
   "outputs": [
    {
     "data": {
      "text/html": [
       "<div>\n",
       "<style scoped>\n",
       "    .dataframe tbody tr th:only-of-type {\n",
       "        vertical-align: middle;\n",
       "    }\n",
       "\n",
       "    .dataframe tbody tr th {\n",
       "        vertical-align: top;\n",
       "    }\n",
       "\n",
       "    .dataframe thead th {\n",
       "        text-align: right;\n",
       "    }\n",
       "</style>\n",
       "<table border=\"1\" class=\"dataframe\">\n",
       "  <thead>\n",
       "    <tr style=\"text-align: right;\">\n",
       "      <th></th>\n",
       "      <th>duration_sec</th>\n",
       "      <th>member_gender</th>\n",
       "      <th>age</th>\n",
       "      <th>initial_stime</th>\n",
       "      <th>start_hour</th>\n",
       "      <th>user_type</th>\n",
       "    </tr>\n",
       "  </thead>\n",
       "  <tbody>\n",
       "    <tr>\n",
       "      <th>0</th>\n",
       "      <td>52185</td>\n",
       "      <td>Male</td>\n",
       "      <td>35</td>\n",
       "      <td>5</td>\n",
       "      <td>5pm</td>\n",
       "      <td>Customer</td>\n",
       "    </tr>\n",
       "    <tr>\n",
       "      <th>2</th>\n",
       "      <td>61854</td>\n",
       "      <td>Male</td>\n",
       "      <td>47</td>\n",
       "      <td>12</td>\n",
       "      <td>12am</td>\n",
       "      <td>Customer</td>\n",
       "    </tr>\n",
       "    <tr>\n",
       "      <th>3</th>\n",
       "      <td>36490</td>\n",
       "      <td>Other</td>\n",
       "      <td>30</td>\n",
       "      <td>5</td>\n",
       "      <td>5pm</td>\n",
       "      <td>Subscriber</td>\n",
       "    </tr>\n",
       "    <tr>\n",
       "      <th>4</th>\n",
       "      <td>1585</td>\n",
       "      <td>Male</td>\n",
       "      <td>45</td>\n",
       "      <td>11</td>\n",
       "      <td>11pm</td>\n",
       "      <td>Subscriber</td>\n",
       "    </tr>\n",
       "    <tr>\n",
       "      <th>5</th>\n",
       "      <td>1793</td>\n",
       "      <td>Male</td>\n",
       "      <td>60</td>\n",
       "      <td>11</td>\n",
       "      <td>11pm</td>\n",
       "      <td>Subscriber</td>\n",
       "    </tr>\n",
       "  </tbody>\n",
       "</table>\n",
       "</div>"
      ],
      "text/plain": [
       "   duration_sec member_gender  age  initial_stime start_hour   user_type\n",
       "0         52185          Male   35              5        5pm    Customer\n",
       "2         61854          Male   47             12       12am    Customer\n",
       "3         36490         Other   30              5        5pm  Subscriber\n",
       "4          1585          Male   45             11       11pm  Subscriber\n",
       "5          1793          Male   60             11       11pm  Subscriber"
      ]
     },
     "execution_count": 89,
     "metadata": {},
     "output_type": "execute_result"
    }
   ],
   "source": [
    "start_df = df[['duration_sec', 'member_gender', 'age', 'initial_stime', 'start_hour', 'user_type']]\n",
    "start_df.head()"
   ]
  },
  {
   "cell_type": "code",
   "execution_count": null,
   "metadata": {},
   "outputs": [],
   "source": []
  },
  {
   "cell_type": "code",
   "execution_count": 90,
   "metadata": {},
   "outputs": [
    {
     "data": {
      "image/png": "[encoded data removed]",
      "text/plain": [
       "<Figure size 432x288 with 1 Axes>"
      ]
     },
     "metadata": {
      "needs_background": "light"
     },
     "output_type": "display_data"
    }
   ],
   "source": [
    "order_start = start_df['start_hour'].value_counts().index\n",
    "prop = start_df['start_hour'].value_counts()\n",
    "sb.countplot(data = start_df, x = 'start_hour', color = color_)\n",
    "plt.xticks(rotation = 70)\n",
    "plt.xlabel('Start hour of the day');\n"
   ]
  },
  {
   "cell_type": "code",
   "execution_count": null,
   "metadata": {},
   "outputs": [],
   "source": []
  },
  {
   "cell_type": "code",
   "execution_count": 91,
   "metadata": {},
   "outputs": [
    {
     "data": {
      "text/html": [
       "<div>\n",
       "<style scoped>\n",
       "    .dataframe tbody tr th:only-of-type {\n",
       "        vertical-align: middle;\n",
       "    }\n",
       "\n",
       "    .dataframe tbody tr th {\n",
       "        vertical-align: top;\n",
       "    }\n",
       "\n",
       "    .dataframe thead th {\n",
       "        text-align: right;\n",
       "    }\n",
       "</style>\n",
       "<table border=\"1\" class=\"dataframe\">\n",
       "  <thead>\n",
       "    <tr style=\"text-align: right;\">\n",
       "      <th></th>\n",
       "      <th>duration_sec</th>\n",
       "      <th>member_gender</th>\n",
       "      <th>age</th>\n",
       "      <th>initial_etime</th>\n",
       "      <th>end_hour</th>\n",
       "      <th>user_type</th>\n",
       "    </tr>\n",
       "  </thead>\n",
       "  <tbody>\n",
       "    <tr>\n",
       "      <th>0</th>\n",
       "      <td>52185</td>\n",
       "      <td>Male</td>\n",
       "      <td>35</td>\n",
       "      <td>8</td>\n",
       "      <td>8am</td>\n",
       "      <td>Customer</td>\n",
       "    </tr>\n",
       "    <tr>\n",
       "      <th>2</th>\n",
       "      <td>61854</td>\n",
       "      <td>Male</td>\n",
       "      <td>47</td>\n",
       "      <td>5</td>\n",
       "      <td>5am</td>\n",
       "      <td>Customer</td>\n",
       "    </tr>\n",
       "    <tr>\n",
       "      <th>3</th>\n",
       "      <td>36490</td>\n",
       "      <td>Other</td>\n",
       "      <td>30</td>\n",
       "      <td>4</td>\n",
       "      <td>4am</td>\n",
       "      <td>Subscriber</td>\n",
       "    </tr>\n",
       "    <tr>\n",
       "      <th>4</th>\n",
       "      <td>1585</td>\n",
       "      <td>Male</td>\n",
       "      <td>45</td>\n",
       "      <td>0</td>\n",
       "      <td>0am</td>\n",
       "      <td>Subscriber</td>\n",
       "    </tr>\n",
       "    <tr>\n",
       "      <th>5</th>\n",
       "      <td>1793</td>\n",
       "      <td>Male</td>\n",
       "      <td>60</td>\n",
       "      <td>0</td>\n",
       "      <td>0am</td>\n",
       "      <td>Subscriber</td>\n",
       "    </tr>\n",
       "  </tbody>\n",
       "</table>\n",
       "</div>"
      ],
      "text/plain": [
       "   duration_sec member_gender  age  initial_etime end_hour   user_type\n",
       "0         52185          Male   35              8      8am    Customer\n",
       "2         61854          Male   47              5      5am    Customer\n",
       "3         36490         Other   30              4      4am  Subscriber\n",
       "4          1585          Male   45              0      0am  Subscriber\n",
       "5          1793          Male   60              0      0am  Subscriber"
      ]
     },
     "execution_count": 91,
     "metadata": {},
     "output_type": "execute_result"
    }
   ],
   "source": [
    "end_df = df[['duration_sec', 'member_gender', 'age', 'initial_etime', 'end_hour', 'user_type']]\n",
    "end_df.head()"
   ]
  },
  {
   "cell_type": "code",
   "execution_count": null,
   "metadata": {},
   "outputs": [],
   "source": []
  },
  {
   "cell_type": "code",
   "execution_count": 92,
   "metadata": {},
   "outputs": [
    {
     "data": {
      "image/png": "[encoded data removed]",
      "text/plain": [
       "<Figure size 432x288 with 1 Axes>"
      ]
     },
     "metadata": {
      "needs_background": "light"
     },
     "output_type": "display_data"
    }
   ],
   "source": [
    "order_end = end_df['end_hour'].value_counts().index\n",
    "sb.countplot(data = end_df, x = 'end_hour', color = color_)\n",
    "plt.xticks(rotation = 70)\n",
    "plt.xlabel('End hour of the day');"
   ]
  },
  {
   "cell_type": "code",
   "execution_count": 93,
   "metadata": {},
   "outputs": [
    {
     "data": {
      "image/png": "[encoded data removed]",
      "text/plain": [
       "<Figure size 1440x360 with 2 Axes>"
      ]
     },
     "metadata": {
      "needs_background": "light"
     },
     "output_type": "display_data"
    }
   ],
   "source": [
    "# Having same plots as the above, but now ordered for easy comparison\n",
    "plt.figure(figsize = [20, 5])\n",
    "\n",
    "plt.subplot(1, 2, 1) \n",
    "order_end = end_df['end_hour'].value_counts().index\n",
    "sb.countplot(data = end_df, x = 'end_hour', color = color_, order = order_end)\n",
    "plt.xticks(rotation = 70)\n",
    "plt.xlabel('End hour of the day');\n",
    "\n",
    "plt.subplot(1, 2, 2)\n",
    "order_start = start_df['start_hour'].value_counts().index\n",
    "prop = start_df['start_hour'].value_counts()\n",
    "sb.countplot(data = start_df, x = 'start_hour', color = color_, order = order_start)\n",
    "plt.xticks(rotation = 70)\n",
    "plt.xlabel('Start hour of the day');"
   ]
  },
  {
   "cell_type": "markdown",
   "metadata": {},
   "source": [
    "> - The most common start and end hour of a day is 5pm."
   ]
  },
  {
   "cell_type": "code",
   "execution_count": 94,
   "metadata": {},
   "outputs": [
    {
     "data": {
      "text/plain": [
       "(174952, 21)"
      ]
     },
     "execution_count": 94,
     "metadata": {},
     "output_type": "execute_result"
    }
   ],
   "source": [
    "# New shape\n",
    "df.shape"
   ]
  },
  {
   "cell_type": "code",
   "execution_count": null,
   "metadata": {},
   "outputs": [],
   "source": []
  },
  {
   "cell_type": "markdown",
   "metadata": {},
   "source": [
    "### Discuss the distribution(s) of your variable(s) of interest. Were there any unusual points? Did you need to perform any transformations?\n",
    "\n",
    "> Performed some data analysis on the variables of interest to me, this is how the variables are distributed:\n",
    "> - At the start, after doing some data cleaning, I have 174952 rows and 16 columns\n",
    "> - Users are categorised into Subscribers and Customers\n",
    "> - Male representing about 75% of the users, Female 23%, and Other 2%.\n",
    "\n",
    "> Most of the users fall between the ages of 25 - 45, with few less than 25 or above 45. Compared to the rest of the genders, there are most male users above 45 years.\n",
    "\n",
    "> The most common start and end hour of a day by these users is 5pm.\n",
    "\n",
    "> The unusual points I noticed is the age of the users, some users have ages above 90. The higest is 141 years (Don't know if someone at that age can still ride a bike).\n",
    "\n",
    "### Of the features you investigated, were there any unusual distributions? Did you perform any operations on the data to tidy, adjust, or change the form of the data? If so, why did you do this?\n",
    "\n",
    "> The features I investigated shows that there are way more men than women, aside from this I have not noticed any unsual distribution.\n",
    "\n",
    "> Performed some operations on the data to tidy the data like droppinf na values, changing data types, and also changed the form of the start and end  time (Created 4 new columns to hold this values) to get the hours in the time.\n",
    "\n",
    "> The new shape of the data is now 174952 rows and 21 columns."
   ]
  },
  {
   "cell_type": "markdown",
   "metadata": {},
   "source": [
    "## Bivariate Exploration\n",
    "\n",
    "> In this section, investigate relationships between pairs of variables in your\n",
    "data. Make sure the variables that you cover here have been introduced in some\n",
    "fashion in the previous section (univariate exploration)."
   ]
  },
  {
   "cell_type": "code",
   "execution_count": 95,
   "metadata": {},
   "outputs": [
    {
     "data": {
      "image/png": "[encoded data removed]",
      "text/plain": [
       "<Figure size 432x288 with 1 Axes>"
      ]
     },
     "metadata": {
      "needs_background": "light"
     },
     "output_type": "display_data"
    }
   ],
   "source": [
    "# What is the proportion of the User types by gender\n",
    "sb.countplot(data = df, x = 'member_gender', hue = 'user_type');"
   ]
  },
  {
   "cell_type": "code",
   "execution_count": null,
   "metadata": {},
   "outputs": [],
   "source": []
  },
  {
   "cell_type": "code",
   "execution_count": 96,
   "metadata": {},
   "outputs": [
    {
     "data": {
      "image/png": "[encoded data removed]",
      "text/plain": [
       "<Figure size 432x288 with 1 Axes>"
      ]
     },
     "metadata": {
      "needs_background": "light"
     },
     "output_type": "display_data"
    }
   ],
   "source": [
    "# Scatter plot\n",
    "plt.scatter(data = df, y = 'duration_sec', x = 'age');\n",
    "plt.ylabel('Duration in sec')\n",
    "plt.xlabel('Age');"
   ]
  },
  {
   "cell_type": "code",
   "execution_count": 97,
   "metadata": {},
   "outputs": [
    {
     "data": {
      "image/png": "[encoded data removed]",
      "text/plain": [
       "<Figure size 432x288 with 1 Axes>"
      ]
     },
     "metadata": {
      "needs_background": "light"
     },
     "output_type": "display_data"
    }
   ],
   "source": [
    "# Overplotting, take sample\n",
    "sample1 = df.sample(1000)\n",
    "\n",
    "plt.scatter(data = sample1, y = 'duration_sec', x = 'age');\n",
    "plt.ylabel('Duration in sec')\n",
    "plt.xlabel('Age');"
   ]
  },
  {
   "cell_type": "code",
   "execution_count": 98,
   "metadata": {},
   "outputs": [
    {
     "data": {
      "image/png": "[encoded data removed]",
      "text/plain": [
       "<Figure size 432x288 with 1 Axes>"
      ]
     },
     "metadata": {
      "needs_background": "light"
     },
     "output_type": "display_data"
    }
   ],
   "source": [
    "sample2 = df.sample(10000)\n",
    "\n",
    "plt.scatter(data = sample2, y = 'duration_sec', x = 'age');\n",
    "plt.ylabel('Duration in sec')\n",
    "plt.xlabel('Age');"
   ]
  },
  {
   "cell_type": "code",
   "execution_count": 99,
   "metadata": {},
   "outputs": [
    {
     "name": "stderr",
     "output_type": "stream",
     "text": [
      "C:\\Users\\Pst. Job D. Agyo\\Anaconda3\\lib\\site-packages\\scipy\\stats\\stats.py:1713: FutureWarning: Using a non-tuple sequence for multidimensional indexing is deprecated; use `arr[tuple(seq)]` instead of `arr[seq]`. In the future this will be interpreted as an array index, `arr[np.array(seq)]`, which will result either in an error or a different result.\n",
      "  return np.add.reduce(sorted[indexer] * weights, axis=axis) / sumval\n"
     ]
    },
    {
     "data": {
      "image/png": "[encoded data removed]",
      "text/plain": [
       "<Figure size 432x288 with 1 Axes>"
      ]
     },
     "metadata": {
      "needs_background": "light"
     },
     "output_type": "display_data"
    }
   ],
   "source": [
    "# adding jitter\n",
    "\n",
    "sb.regplot(data = df, y = 'duration_sec', x = 'age', x_jitter = 0.3,\n",
    "          scatter_kws = {'alpha':1/3});\n",
    "plt.ylabel('Duration in sec')\n",
    "plt.xlabel('Age');"
   ]
  },
  {
   "cell_type": "code",
   "execution_count": null,
   "metadata": {},
   "outputs": [],
   "source": []
  },
  {
   "cell_type": "code",
   "execution_count": 102,
   "metadata": {},
   "outputs": [
    {
     "data": {
      "image/png": "[encoded data removed]",
      "text/plain": [
       "<Figure size 1152x360 with 2 Axes>"
      ]
     },
     "metadata": {
      "needs_background": "light"
     },
     "output_type": "display_data"
    }
   ],
   "source": [
    "# Age distribution of the genders\n",
    "plt.figure(figsize = [16, 5])\n",
    "\n",
    "plt.subplot(1, 2, 1)\n",
    "ax1 = sb.violinplot(data = sample2, x = 'member_gender', y = 'age', color = color_,\n",
    "             inner = None);\n",
    "\n",
    "plt.subplot(1, 2, 2)\n",
    "sb.boxplot(data = sample2, x = 'member_gender', y = 'age', color = color_);\n",
    "plt.ylim(ax1.get_ylim());"
   ]
  },
  {
   "cell_type": "code",
   "execution_count": null,
   "metadata": {},
   "outputs": [],
   "source": []
  },
  {
   "cell_type": "code",
   "execution_count": null,
   "metadata": {},
   "outputs": [],
   "source": []
  },
  {
   "cell_type": "markdown",
   "metadata": {},
   "source": [
    "### Talk about some of the relationships you observed in this part of the investigation. How did the feature(s) of interest vary with other features in the dataset?\n",
    "\n",
    "> The main relationship I observed in this part is the relationship between the duration of rides and the age of the rider. I wanted to understand if the age of the user affect how long the ride these bikes.\n",
    "\n",
    "> The older the rider the shorter the ride. Most of the users are clustered around the age of 20 and 60\n",
    "\n",
    "### Did you observe any interesting relationships between the other features (not the main feature(s) of interest)?\n",
    "\n",
    "> For all genders, there are more subscribers than customers."
   ]
  },
  {
   "cell_type": "markdown",
   "metadata": {},
   "source": [
    "## Multivariate Exploration\n"
   ]
  },
  {
   "cell_type": "code",
   "execution_count": 101,
   "metadata": {},
   "outputs": [
    {
     "name": "stderr",
     "output_type": "stream",
     "text": [
      "C:\\Users\\Pst. Job D. Agyo\\Anaconda3\\lib\\site-packages\\ipykernel_launcher.py:2: FutureWarning: \n",
      "Passing list-likes to .loc or [] with any missing label will raise\n",
      "KeyError in the future, you can use .reindex() as an alternative.\n",
      "\n",
      "See the documentation here:\n",
      "https://pandas.pydata.org/pandas-docs/stable/indexing.html#deprecate-loc-reindex-listlike\n",
      "  \n",
      "C:\\Users\\Pst. Job D. Agyo\\Anaconda3\\lib\\site-packages\\seaborn\\axisgrid.py:230: UserWarning: The `size` paramter has been renamed to `height`; please update your code.\n",
      "  warnings.warn(msg, UserWarning)\n"
     ]
    },
    {
     "data": {
      "image/png": "[encoded data removed]",
      "text/plain": [
       "<Figure size 720x360 with 2 Axes>"
      ]
     },
     "metadata": {
      "needs_background": "light"
     },
     "output_type": "display_data"
    }
   ],
   "source": [
    "s = np.random.choice(df.shape[0], 500, replace = False)\n",
    "sample = df.loc[s]\n",
    "\n",
    "\n",
    "g = sb.FacetGrid(data = sample, col = 'user_type', size = 5,\n",
    "                margin_titles = True)\n",
    "g.map(plt.scatter, 'initial_etime', 'initial_stime');"
   ]
  },
  {
   "cell_type": "code",
   "execution_count": null,
   "metadata": {},
   "outputs": [],
   "source": []
  },
  {
   "cell_type": "markdown",
   "metadata": {},
   "source": [
    "### Talk about some of the relationships you observed in this part of the investigation. Were there features that strengthened each other in terms of looking at your feature(s) of interest?\n",
    "\n",
    "> Tried to look at the relationship between the start time of users and their end time, for both subscribers and customers.\n",
    "\n",
    "> For both categories, there is a potive relationship.\n",
    "- The earlier users for rides the longer the duration. \n"
   ]
  },
  {
   "cell_type": "markdown",
   "metadata": {},
   "source": [
    "## Conclusions\n",
    ">This data set includes information about individual rides made in a bike-sharing system covering the greater San Francisco Bay area. The dataset was for 2019, Feb.\n",
    "\n",
    "> There are more subcribers compared to customers. Also, there are more men taking rides compared to the other genders. Typically, these riders fall between the ages of 25 and 45. Though there are more elderly men i.e those that fall above 45 years.\n",
    "\n",
    "> Most of the users prefer to start baking at around 5pm. Though the earlier they go out the longer the durations of these bike rides.\n",
    "\n",
    "> Only the younger riders tends to have longer durations."
   ]
  },
  {
   "cell_type": "markdown",
   "metadata": {},
   "source": [
    "\n"
   ]
  },
  {
   "cell_type": "code",
   "execution_count": null,
   "metadata": {},
   "outputs": [],
   "source": []
  }
 ],
 "metadata": {
  "kernelspec": {
   "display_name": "Python 3",
   "language": "python",
   "name": "python3"
  },
  "language_info": {
   "codemirror_mode": {
    "name": "ipython",
    "version": 3
   },
   "file_extension": ".py",
   "mimetype": "text/x-python",
   "name": "python",
   "nbconvert_exporter": "python",
   "pygments_lexer": "ipython3",
   "version": "3.7.0"
  }
 },
 "nbformat": 4,
 "nbformat_minor": 2
}
